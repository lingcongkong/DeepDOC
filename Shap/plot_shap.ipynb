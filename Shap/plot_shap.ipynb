{
 "cells": [
  {
   "cell_type": "code",
   "execution_count": 1,
   "id": "a8a74bcf",
   "metadata": {
    "scrolled": true
   },
   "outputs": [
    {
     "name": "stderr",
     "output_type": "stream",
     "text": [
      "<frozen importlib._bootstrap>:219: RuntimeWarning: scipy._lib.messagestream.MessageStream size changed, may indicate binary incompatibility. Expected 56 from C header, got 64 from PyObject\n"
     ]
    }
   ],
   "source": [
    "import pandas as pd\n",
    "import os\n",
    "import csv\n",
    "import random\n",
    "import numpy as np\n",
    "import matplotlib.pyplot as plt\n",
    "from scipy import stats\n",
    "import matplotlib.font_manager as fm\n",
    "import shap\n",
    "shap.initjs()\n",
    "from shap.maskers import Independent"
   ]
  },
  {
   "cell_type": "markdown",
   "id": "a6f989d4",
   "metadata": {},
   "source": [
    "load data"
   ]
  },
  {
   "cell_type": "code",
   "execution_count": 2,
   "id": "6256a7c0",
   "metadata": {},
   "outputs": [],
   "source": [
    "# load fc_feature\n",
    "feature_table = pd.read_csv('./data/fc_feature.csv')\n",
    "feature = np.array(feature_table)"
   ]
  },
  {
   "cell_type": "code",
   "execution_count": 4,
   "id": "2b4d5551",
   "metadata": {},
   "outputs": [],
   "source": [
    "# original node_node\n",
    "columns = list(feature_table.columns)"
   ]
  },
  {
   "cell_type": "markdown",
   "id": "86145726",
   "metadata": {},
   "source": [
    "node"
   ]
  },
  {
   "cell_type": "code",
   "execution_count": null,
   "id": "587f9799",
   "metadata": {},
   "outputs": [],
   "source": [
    "# Five model node_nodes\n",
    "node_link_5model = pd.read_csv('./node/node_link_5models.csv')\n",
    "node_node = list(node_link_5model['Unnamed: 0'])\n",
    "# len(node_node)"
   ]
  },
  {
   "cell_type": "code",
   "execution_count": 5,
   "id": "2b509797",
   "metadata": {},
   "outputs": [],
   "source": [
    "# Find the index of the corresponding node_node in the original columns\n",
    "node_index = []\n",
    "for i in range(len(node_node)):\n",
    "    index = columns.index(node_node[i])\n",
    "    node_index.append(index)"
   ]
  },
  {
   "cell_type": "markdown",
   "id": "eabedffe",
   "metadata": {},
   "source": [
    "mean_shap matrices for 5 models"
   ]
  },
  {
   "cell_type": "code",
   "execution_count": 6,
   "id": "af8ffd59",
   "metadata": {},
   "outputs": [],
   "source": [
    "models = ['SVM', 'LR', 'RF', 'XGBoost', 'AdaBoost']"
   ]
  },
  {
   "cell_type": "code",
   "execution_count": 7,
   "id": "c31cea2c",
   "metadata": {},
   "outputs": [],
   "source": [
    "shap_svm = pd.read_csv('./mean_shap_values/mean_shap_values_svc.csv')\n",
    "shap_lr = pd.read_csv('./mean_shap_values/mean_shap_values_lr.csv')\n",
    "shap_rf = pd.read_csv('./mean_shap_values/mean_shap_values_rf.csv')\n",
    "shap_xg = pd.read_csv('./mean_shap_values/mean_shap_values_xg.csv')\n",
    "shap_ada = pd.read_csv('./mean_shap_values/mean_shap_values_ada.csv')\n",
    "csv_files = [shap_svm, shap_lr, shap_rf, shap_xg, shap_ada]"
   ]
  },
  {
   "cell_type": "code",
   "execution_count": 8,
   "id": "f7d906fb",
   "metadata": {},
   "outputs": [],
   "source": [
    "shap_5models = pd.read_csv('./mean_shap_values/mean_shap_values_5models.csv')"
   ]
  },
  {
   "cell_type": "markdown",
   "id": "6a30d90d",
   "metadata": {},
   "source": [
    "Find the corresponding abbr(network)"
   ]
  },
  {
   "cell_type": "code",
   "execution_count": 14,
   "id": "b30ea41f",
   "metadata": {
    "scrolled": true
   },
   "outputs": [],
   "source": [
    "def num_to_roi(node_node, aal90_network):\n",
    "    df_node_node = pd.DataFrame(columns=['num_num', 'roi_roi'])\n",
    "    df_node_node['num_num'] = node_node\n",
    "    for i in range(len(df_node_node)):\n",
    "        a = int(df_node_node['num_num'].values[i].split('_')[0])\n",
    "        b = int(df_node_node['num_num'].values[i].split('_')[1])\n",
    "        a_index = aal90_network[aal90_network['num']==a].index.tolist()[0]\n",
    "        b_index = aal90_network[aal90_network['num']==b].index.tolist()[0]\n",
    "        df_node_node['roi_roi'].values[i] = aal90_network['abbr_net'].values[a_index] + '_' + aal90_network['abbr_net'].values[b_index]\n",
    "        roi_roi = df_node_node['roi_roi'].tolist()\n",
    "    return df_node_node, roi_roi"
   ]
  },
  {
   "cell_type": "code",
   "execution_count": 15,
   "id": "a220e963",
   "metadata": {},
   "outputs": [],
   "source": [
    "aal90_network = pd.read_csv('./network/aal90_network.csv')"
   ]
  },
  {
   "cell_type": "code",
   "execution_count": 16,
   "id": "6396c114",
   "metadata": {},
   "outputs": [],
   "source": [
    "df_node_node, roi_roi = num_to_roi(node_node, aal90_network)"
   ]
  },
  {
   "cell_type": "code",
   "execution_count": 17,
   "id": "6bd81f2a",
   "metadata": {},
   "outputs": [],
   "source": [
    "# Change the header to \"abbr(network)\"\n",
    "df_columns, columns_roi_roi = num_to_roi(columns, aal90_network)\n",
    "feature_table.columns = list(df_columns['roi_roi'].values)"
   ]
  },
  {
   "cell_type": "markdown",
   "id": "30ff7bbf",
   "metadata": {},
   "source": [
    "###### plot_shap"
   ]
  },
  {
   "cell_type": "code",
   "execution_count": 9,
   "id": "e0258b64",
   "metadata": {},
   "outputs": [],
   "source": [
    "def heatmap(data, row_labels, col_labels, ax=None,\n",
    "            cbar_kw={}, cbarlabel=\"\", **kwargs):\n",
    "    \"\"\"\n",
    "    code from https://matplotlib.org/stable/gallery/images_contours_and_fields/image_annotated_heatmap.html\n",
    "    Create a heatmap from a numpy array and two lists of labels.\n",
    "\n",
    "    Parameters\n",
    "    ----------\n",
    "    data\n",
    "        A 2D numpy array of shape (N, M).\n",
    "    row_labels\n",
    "        A list or array of length N with the labels for the rows.\n",
    "    col_labels\n",
    "        A list or array of length M with the labels for the columns.\n",
    "    ax\n",
    "        A `matplotlib.axes.Axes` instance to which the heatmap is plotted.  If\n",
    "        not provided, use current axes or create a new one.  Optional.\n",
    "    cbar_kw\n",
    "        A dictionary with arguments to `matplotlib.Figure.colorbar`.  Optional.\n",
    "    cbarlabel\n",
    "        The label for the colorbar.  Optional.\n",
    "    **kwargs\n",
    "        All other arguments are forwarded to `imshow`.\n",
    "    \"\"\"\n",
    "\n",
    "    if not ax:\n",
    "        ax = plt.gca()\n",
    "\n",
    "    # Plot the heatmap\n",
    "    im = ax.imshow(data, **kwargs)\n",
    "\n",
    "\n",
    "    # Create colorbar\n",
    "    cbar = ax.figure.colorbar(im, ax=ax, shrink=0.75, **cbar_kw)\n",
    "    cbar.ax.set_ylabel(cbarlabel, rotation=-90, va=\"bottom\", fontsize=12)\n",
    "\n",
    "    # We want to show all ticks...\n",
    "    ax.set_xticks(np.arange(data.shape[1]))\n",
    "    ax.set_yticks(np.arange(data.shape[0]))\n",
    "    # ... and label them with the respective list entries.\n",
    "    ax.set_xticklabels(col_labels)\n",
    "    ax.set_yticklabels(row_labels)\n",
    "\n",
    "    # Let the horizontal axes labeling appear on top.\n",
    "    ax.tick_params(top=True, bottom=False,\n",
    "                   labeltop=True, labelbottom=False)\n",
    "\n",
    "    # Rotate the tick labels and set their alignment.\n",
    "    plt.setp(ax.get_xticklabels(), rotation=-30, ha=\"right\",\n",
    "             rotation_mode=\"anchor\")\n",
    "\n",
    "    # Turn spines off and create white grid.\n",
    "    for edge, spine in ax.spines.items():\n",
    "        spine.set_visible(False)\n",
    "\n",
    "    ax.set_xticks(np.arange(data.shape[1]+1)-.5, minor=True)\n",
    "    ax.set_yticks(np.arange(data.shape[0]+1)-.5, minor=True)\n",
    "    ax.grid(which=\"minor\", color=\"w\", linestyle='-', linewidth=3)\n",
    "    ax.tick_params(which=\"minor\", bottom=False, left=False)\n",
    "\n",
    "    return im, cbar"
   ]
  },
  {
   "cell_type": "code",
   "execution_count": 10,
   "id": "85977af9",
   "metadata": {},
   "outputs": [],
   "source": [
    "def get_common_top_N(heatmap, node_index, columns):\n",
    "    # Fetch the name and column data corresponding to the final node_node from the five models\n",
    "    new_columns = []\n",
    "    for i in node_index:\n",
    "        new_columns.append(columns[i])\n",
    "    new = []\n",
    "    for i in node_index:\n",
    "        new.append(heatmap[:, i])\n",
    "    new_heatmap = np.array([list(np.concatenate(new, axis=0))])\n",
    "    \n",
    "    return new_heatmap, new_columns"
   ]
  },
  {
   "cell_type": "code",
   "execution_count": 33,
   "id": "47095169",
   "metadata": {},
   "outputs": [],
   "source": [
    "def plot_shap_heatmap(models, csv_files, node_index, columns):\n",
    "    from matplotlib import rc, rcParams\n",
    "    rc('axes', linewidth=2)\n",
    "    rcParams.update({'font.size': 10})\n",
    "    \n",
    "    heatmaps = [[] for _ in models]\n",
    "    \n",
    "    for i in range(len(models)):\n",
    "        mean_abs, std_abs, columns_mean = shap_stat(csv_files[i])\n",
    "        heatmaps[i].append(mean_abs)\n",
    "        print(np.shape(heatmaps[i]))\n",
    "#     print(heatmaps)\n",
    "        \n",
    "    for i, model in enumerate(models):\n",
    "        heatmaps[i] = np.array(heatmaps[i])\n",
    "#         print(heatmaps[i])\n",
    "        hm, feature_names = get_common_top_N(heatmaps[i], node_index, columns)\n",
    "#         print(np.shape(hm))\n",
    "#         print(hm)\n",
    "        \n",
    "#         for j in range(hm.shape[0]):\n",
    "#             hm[j, :] = hm[j, :] / np.max(hm[j, :])\n",
    "#         fig, ax = plt.subplots(figsize=(12, 6))\n",
    "#         im, cbar = heatmap(hm, [model], feature_names, ax=ax, vmin=0, vmax=1,\n",
    "#                            cmap=\"cool\", cbarlabel=\"Relative Importance\")\n",
    "#         plt.savefig('/home/yanghuan/DOC_scripts/shap_ML_1000/shap_ML_fig/shap_heatmap_{}.pdf'.format(model), dpi=600, bbox_inches='tight')"
   ]
  },
  {
   "cell_type": "code",
   "execution_count": 12,
   "id": "4e92b1b5",
   "metadata": {},
   "outputs": [],
   "source": [
    "# Calculate the shap mean value and standard deviation of each feature\n",
    "def shap_stat(shap_values):\n",
    "    columns = shap_values.columns\n",
    "    mean_abs = []\n",
    "    std_abs = []\n",
    "    for i in range(shap_values.shape[1]):\n",
    "        m = np.mean(abs(shap_values.to_numpy()[:, i]))\n",
    "        s = np.std(abs(shap_values.to_numpy()[:, i]))\n",
    "        mean_abs.append(m)\n",
    "        std_abs.append(s)\n",
    "\n",
    "    return mean_abs, std_abs, columns.to_list()"
   ]
  },
  {
   "cell_type": "code",
   "execution_count": 16,
   "id": "4cd0751a",
   "metadata": {},
   "outputs": [],
   "source": [
    "# Fetch top N\n",
    "def get_top_N(mean, std, columns, N):\n",
    "    pool = list(zip(mean, std, columns))\n",
    "    pool.sort()\n",
    "    return pool[-N:]"
   ]
  },
  {
   "cell_type": "code",
   "execution_count": 120,
   "id": "129da165",
   "metadata": {},
   "outputs": [],
   "source": [
    "# shap bar plot\n",
    "def plot_shap_bar(shap_values, feature, columns_roi_roi, top, model):\n",
    "    from matplotlib import rc, rcParams\n",
    "    rc('axes', linewidth=2)\n",
    "    rc('font', size=15)\n",
    "\n",
    "    mean_abs, std_abs, columns = shap_stat(shap_values)\n",
    "    pool = get_top_N(mean_abs, std_abs, columns_roi_roi, top)\n",
    "    \n",
    "    fig, ax = plt.subplots(figsize=(6, 10))\n",
    "#     plt.barh([a[2] for a in pool], [a[0] for a in pool], color='#75bbfd', capsize=5)\n",
    "    shap.summary_plot(shap_values, feature, columns_roi_roi, plot_type=\"bar\", max_display=top, color='#75bbfd', show=False) \n",
    "    fig = plt.gcf()\n",
    "    fig.set_size_inches(6, 10)\n",
    "    ax.set_xlabel('Mean(|SHAP|)', fontsize=15)\n",
    "    ax.spines['top'].set_color('none')\n",
    "    ax.spines['right'].set_color('none')\n",
    "    ax.spines['left'].set_smart_bounds(True)\n",
    "    ax.spines['bottom'].set_smart_bounds(True)\n",
    "    ax.spines['bottom'].set_position(('axes', 0.01))\n",
    "    ax.tick_params(axis='both', which='major', labelsize=15)\n",
    "    plt.savefig('./shap_bar_{}.pdf'.format(model), dpi=600, bbox_inches='tight')\n",
    "#     plt.close()"
   ]
  },
  {
   "cell_type": "code",
   "execution_count": 134,
   "id": "5211846e",
   "metadata": {},
   "outputs": [],
   "source": [
    "def plot_beeswarm(shap_values, feature_data, max_display, model):\n",
    "    from matplotlib import rc, rcParams\n",
    "    rc('axes', linewidth=2)\n",
    "    size = 40\n",
    "    rc('font', size=size)\n",
    "    size = 20\n",
    "    fig, ax = plt.subplots()\n",
    "    shap.summary_plot(shap_values.to_numpy(), feature_data, max_display=max_display, show=False)\n",
    "    fig = plt.gcf()\n",
    "    fig.set_size_inches(6, 10)\n",
    "    cbar_ax = fig.axes[-1]\n",
    "    cbar_ax.tick_params(labelsize=size)\n",
    "    ax.tick_params(axis='both', which='major', labelsize=size)\n",
    "    ax.set_xlabel('SHAP value', fontsize=size)\n",
    "    fig.savefig('./shap_beeswarm_{}.pdf'.format(model), dpi=600, bbox_inches='tight')\n",
    "#     plt.close()"
   ]
  },
  {
   "cell_type": "code",
   "execution_count": 167,
   "id": "e11348ba",
   "metadata": {},
   "outputs": [],
   "source": [
    "def plot_beeswarm(shap_values, feature_data, max_display, model):\n",
    "    from matplotlib import rc, rcParams\n",
    "    size = 40\n",
    "    rc('axes', linewidth=2)\n",
    "    rc('font', size=size)\n",
    "\n",
    "    fig, ax = plt.subplots()\n",
    "    shap.summary_plot(shap_values.to_numpy(), feature_data, max_display=max_display, show=False)\n",
    "#     fig = plt.gcf()\n",
    "    fig.set_size_inches(6, 10)\n",
    "    cbar_ax = fig.axes[-1]\n",
    "    cbar_ax.tick_params(labelsize=size-20)\n",
    "    ax.tick_params(axis='both', which='major', labelsize=size-20)\n",
    "    ax.tick_params(axis='x', which='major', labelsize=size-25)\n",
    "    \n",
    "    ax.set_xlabel('SHAP value', fontsize=size-20)\n",
    "    fig.savefig('./shap_beeswarm_{}.pdf'.format(model), dpi=600, bbox_inches='tight')"
   ]
  },
  {
   "cell_type": "markdown",
   "id": "278bcbf8",
   "metadata": {},
   "source": [
    "###### plot"
   ]
  },
  {
   "cell_type": "code",
   "execution_count": 160,
   "id": "c9073075",
   "metadata": {},
   "outputs": [],
   "source": [
    "plot_shap_bar(shap_svm, feature, columns_roi_roi, 17, 'svm')"
   ]
  },
  {
   "cell_type": "code",
   "execution_count": 161,
   "id": "1f17074e",
   "metadata": {},
   "outputs": [],
   "source": [
    "plot_shap_bar(shap_5models, feature, columns_roi_roi, 19, '5models')"
   ]
  },
  {
   "cell_type": "code",
   "execution_count": null,
   "id": "e4379a75",
   "metadata": {},
   "outputs": [],
   "source": [
    "plot_beeswarm(shap_svm, feature_table, 17, 'svm')"
   ]
  },
  {
   "cell_type": "code",
   "execution_count": null,
   "id": "5e3cc96f",
   "metadata": {},
   "outputs": [],
   "source": [
    "plot_beeswarm(shap_5models, feature_table, 19, '5models')"
   ]
  },
  {
   "cell_type": "code",
   "execution_count": null,
   "id": "e451fa0d",
   "metadata": {},
   "outputs": [],
   "source": [
    "plot_shap_heatmap(models, csv_files, node_index, columns_roi_roi)"
   ]
  },
  {
   "cell_type": "code",
   "execution_count": null,
   "id": "f854faef",
   "metadata": {},
   "outputs": [],
   "source": []
  },
  {
   "cell_type": "code",
   "execution_count": null,
   "id": "aeadc7f6",
   "metadata": {},
   "outputs": [],
   "source": []
  },
  {
   "cell_type": "code",
   "execution_count": null,
   "id": "fcfbb026",
   "metadata": {},
   "outputs": [],
   "source": []
  },
  {
   "cell_type": "code",
   "execution_count": null,
   "id": "41e7fa27",
   "metadata": {},
   "outputs": [],
   "source": []
  },
  {
   "cell_type": "code",
   "execution_count": null,
   "id": "b4621ec8",
   "metadata": {},
   "outputs": [],
   "source": []
  },
  {
   "cell_type": "code",
   "execution_count": null,
   "id": "2f6b2ac6",
   "metadata": {},
   "outputs": [],
   "source": []
  }
 ],
 "metadata": {
  "kernelspec": {
   "display_name": "Python 3",
   "language": "python",
   "name": "python3"
  },
  "language_info": {
   "codemirror_mode": {
    "name": "ipython",
    "version": 3
   },
   "file_extension": ".py",
   "mimetype": "text/x-python",
   "name": "python",
   "nbconvert_exporter": "python",
   "pygments_lexer": "ipython3",
   "version": "3.8.8"
  }
 },
 "nbformat": 4,
 "nbformat_minor": 5
}
