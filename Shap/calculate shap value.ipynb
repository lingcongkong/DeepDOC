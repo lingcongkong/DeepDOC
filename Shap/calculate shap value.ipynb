{
 "cells": [
  {
   "cell_type": "markdown",
   "id": "32a53a1e",
   "metadata": {},
   "source": [
    "## Calculate SHAP values for different models\n",
    "\n",
    "The five models (SVM, LR, RF, XGBoost, AdaBoost) can be divided into two machine learning models: linear model and tree structure model"
   ]
  },
  {
   "cell_type": "code",
   "execution_count": null,
   "id": "69324a05",
   "metadata": {},
   "outputs": [],
   "source": [
    "from shap.maskers import Independent\n",
    "import shap\n",
    "shap.initjs()"
   ]
  },
  {
   "cell_type": "code",
   "execution_count": null,
   "id": "d3e71119",
   "metadata": {},
   "outputs": [],
   "source": [
    "# The type of SHAP interpreter used by the linear model\n",
    "def linear_shap(train_set, model, test_set):\n",
    "    # need a masker\n",
    "    background = Independent(train_set, max_samples=100)\n",
    "    # Instantiate an explainer\n",
    "    explainer = shap.LinearExplainer(model, background)\n",
    "    # calculate SHAP values\n",
    "    shap_values = explainer.shap_values(test_set)   \n",
    "    return shap_values"
   ]
  },
  {
   "cell_type": "code",
   "execution_count": null,
   "id": "0e781656",
   "metadata": {},
   "outputs": [],
   "source": [
    "# The type of SHAP interpreter used by the tree model\n",
    "def tree_shap(model, test_set):\n",
    "    # Instantiate an explainer\n",
    "    explainer = shap.TreeExplainer(model)\n",
    "    # calculate SHAP values\n",
    "    shap_values = explainer.shap_values(test_set)   \n",
    "    return shap_values"
   ]
  },
  {
   "cell_type": "code",
   "execution_count": null,
   "id": "8de17ee5",
   "metadata": {},
   "outputs": [],
   "source": [
    "# Retain the features of the top 10 of the mean value of the absolute SHAP values\n",
    "def shap_top10(shap_values):\n",
    "    mean_abs = []\n",
    "    for i in range(shap_values.shape[1]):\n",
    "        m = np.mean(abs(shap_values[:, i]))\n",
    "        mean_abs.append(m)\n",
    "    m_sorted = sorted(enumerate(mean_abs), key=lambda x:x[1], reverse=True)\n",
    "    sorted_inds = [m[0] for m in m_sorted]\n",
    "    sorted_nums = [m[1] for m in m_sorted]\n",
    "    shap_values_10 = shap_values.take(sorted_inds[:10], 1)\n",
    "    X_test_10 = test_set.take(sorted_inds[:10], 1)\n",
    "    names_10 = np.array(name_rf)[sorted_inds[:10]].tolist()\n",
    "    \n",
    "    return shap_values_10, X_test_10, names_10"
   ]
  }
 ],
 "metadata": {
  "kernelspec": {
   "display_name": "Python 3 (ipykernel)",
   "language": "python",
   "name": "python3"
  },
  "language_info": {
   "codemirror_mode": {
    "name": "ipython",
    "version": 3
   },
   "file_extension": ".py",
   "mimetype": "text/x-python",
   "name": "python",
   "nbconvert_exporter": "python",
   "pygments_lexer": "ipython3",
   "version": "3.9.12"
  }
 },
 "nbformat": 4,
 "nbformat_minor": 5
}
