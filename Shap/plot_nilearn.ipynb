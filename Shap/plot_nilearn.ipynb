{
 "cells": [
  {
   "cell_type": "code",
   "execution_count": 1,
   "id": "c6595825",
   "metadata": {
    "scrolled": true
   },
   "outputs": [
    {
     "name": "stderr",
     "output_type": "stream",
     "text": [
      "<frozen importlib._bootstrap>:219: RuntimeWarning: scipy._lib.messagestream.MessageStream size changed, may indicate binary incompatibility. Expected 56 from C header, got 64 from PyObject\n"
     ]
    }
   ],
   "source": [
    "import pandas as pd\n",
    "import numpy as np\n",
    "from nilearn import plotting\n",
    "import matplotlib.pyplot as plt\n",
    "from matplotlib.figure import Figure"
   ]
  },
  {
   "cell_type": "markdown",
   "id": "ba8c0664",
   "metadata": {},
   "source": [
    "load link matrix"
   ]
  },
  {
   "cell_type": "code",
   "execution_count": 2,
   "id": "c48aa43c",
   "metadata": {},
   "outputs": [],
   "source": [
    "svm_link = pd.read_csv('./link_matrix/link_count_SVM.csv')\n",
    "# Selection frequency>1000\n",
    "svm_link = svm_link[svm_link['link']>1000]"
   ]
  },
  {
   "cell_type": "markdown",
   "id": "ec1be8e0",
   "metadata": {},
   "source": [
    "Fetch node"
   ]
  },
  {
   "cell_type": "code",
   "execution_count": 3,
   "id": "2b79d909",
   "metadata": {},
   "outputs": [],
   "source": [
    "node_node = svm_link['Unnamed: 0']\n",
    "# All the nodes connecting the brain regions are extracted\n",
    "node = []\n",
    "for i in range(len(node_node)):\n",
    "    a, b = node_node[i].split('_')[0], node_node[i].split('_')[1]\n",
    "    node.append(a)\n",
    "    node.append(b)\n",
    "# The node name is deduplicated\n",
    "node_set = list(set(node))"
   ]
  },
  {
   "cell_type": "markdown",
   "id": "7887a01d",
   "metadata": {},
   "source": [
    "matrix"
   ]
  },
  {
   "cell_type": "code",
   "execution_count": 18,
   "id": "6c703d89",
   "metadata": {},
   "outputs": [],
   "source": [
    "# The link table is converted to a node*node matrix\n",
    "def link_node_matrix(svm_link):\n",
    "    # Name of brain region connection\n",
    "    node_node = list(svm_link['Unnamed: 0'])\n",
    "    # Standard\n",
    "    svm_link['standard'] = \"\"\n",
    "    linkValue = np.array(svm_link['link'])\n",
    "    linkValue_std = (linkValue - linkValue.min())/(linkValue.max() - linkValue.min())\n",
    "    svm_link['standard'] = list(linkValue_std)\n",
    "    # All the nodes connecting the brain regions are extracted\n",
    "    node = []\n",
    "    for i in range(len(node_node)):\n",
    "        a, b = node_node[i].split('_')[0], node_node[i].split('_')[1]\n",
    "        node.append(a)\n",
    "        node.append(b)\n",
    "    # The node name is deduplicated\n",
    "    node_set = list(set(node))\n",
    "    # Create a new empty table for node*node\n",
    "    link_matrix = pd.DataFrame(columns=node_set, index=node_set)\n",
    "    # Fill in the empty table with the corresponding values for brain connections\n",
    "    for i in range(len(node_node)):\n",
    "        a, b = node_node[i].split('_')[0], node_node[i].split('_')[1]\n",
    "        link_matrix.loc[a, b] = svm_link['standard'][i]\n",
    "        link_matrix.loc[b, a] = svm_link['standard'][i]\n",
    "        link_matrix = link_matrix.fillna(0)\n",
    "        \n",
    "    return node_set, link_matrix"
   ]
  },
  {
   "cell_type": "code",
   "execution_count": 23,
   "id": "a901d8eb",
   "metadata": {},
   "outputs": [],
   "source": [
    "node_set, link_matrix = link_node_matrix(svm_link)"
   ]
  },
  {
   "cell_type": "markdown",
   "id": "29db2000",
   "metadata": {},
   "source": [
    "Coordinate table making"
   ]
  },
  {
   "cell_type": "code",
   "execution_count": 7,
   "id": "1c8a1776",
   "metadata": {},
   "outputs": [],
   "source": [
    "# Coordinate\n",
    "axis = pd.read_excel('./coordinate/aal90_atlas.xlsx')"
   ]
  },
  {
   "cell_type": "code",
   "execution_count": 32,
   "id": "6e86622e",
   "metadata": {},
   "outputs": [],
   "source": [
    "def node_coor(link_matrix, axis):\n",
    "    node_columns = pd.DataFrame(link_matrix.columns, columns=['num'])\n",
    "    node_columns['num'] = node_columns['num'].astype(int)\n",
    "    node_coor = pd.merge(node_columns, axis, how='inner', on=['num'])\n",
    "    node_coor = np.array(node_coor[['x', 'y', 'z']])\n",
    "    \n",
    "    return node_coor"
   ]
  },
  {
   "cell_type": "code",
   "execution_count": 24,
   "id": "a300660b",
   "metadata": {},
   "outputs": [],
   "source": [
    "node_coor = node_coor(link_matrix, axis)"
   ]
  },
  {
   "cell_type": "markdown",
   "id": "f285cd4c",
   "metadata": {},
   "source": [
    "The corresponding network of brain regions"
   ]
  },
  {
   "cell_type": "code",
   "execution_count": 10,
   "id": "97c15775",
   "metadata": {},
   "outputs": [],
   "source": [
    "network = pd.read_csv('./network/network.csv')"
   ]
  },
  {
   "cell_type": "code",
   "execution_count": 33,
   "id": "dbf4835d",
   "metadata": {},
   "outputs": [],
   "source": [
    "def node_color(link_matrix, network):\n",
    "    node_columns = pd.DataFrame(link_matrix.columns, columns=['num'])\n",
    "    node_columns['num'] = node_columns['num'].astype(int)\n",
    "    node_color = pd.merge(node_columns, network, how='inner', on=['num'])\n",
    "    node_color = node_color[['network', 'node_color']]\n",
    "    \n",
    "    return node_color"
   ]
  },
  {
   "cell_type": "code",
   "execution_count": 25,
   "id": "43afa50c",
   "metadata": {},
   "outputs": [],
   "source": [
    "node_color = node_color(link_matrix, network)"
   ]
  },
  {
   "cell_type": "markdown",
   "id": "e322b3ed",
   "metadata": {},
   "source": [
    "Node size"
   ]
  },
  {
   "cell_type": "code",
   "execution_count": 34,
   "id": "bbc79920",
   "metadata": {},
   "outputs": [],
   "source": [
    "# Add the values of each column to get the total join values of the node\n",
    "def node_size(link_matrix):\n",
    "    node_weight = np.array(link_matrix.sum(axis=0))\n",
    "    node_size = 20 + 50 * node_weight\n",
    "    \n",
    "    return node_size"
   ]
  },
  {
   "cell_type": "code",
   "execution_count": 26,
   "id": "a7e3795d",
   "metadata": {},
   "outputs": [],
   "source": [
    "node_size = node_size(link_matrix)"
   ]
  },
  {
   "cell_type": "markdown",
   "id": "34afc8aa",
   "metadata": {},
   "source": [
    "Summarize all the information in one table"
   ]
  },
  {
   "cell_type": "code",
   "execution_count": 15,
   "id": "b4eabd53",
   "metadata": {},
   "outputs": [],
   "source": [
    "nilearn_svm_info = pd.DataFrame(columns=['node', 'x', 'y', 'z', 'network', 'node_color', 'node_size'])\n",
    "nilearn_svm_info['node'] = node_set\n",
    "nilearn_svm_info['node'] = nilearn_svm_info['node'].astype(int)\n",
    "nilearn_svm_info['x'] = node_coor[:, 0]\n",
    "nilearn_svm_info['y'] = node_coor[:, 1]\n",
    "nilearn_svm_info['z'] = node_coor[:, 2]\n",
    "nilearn_svm_info['network'] = list(node_color['network'])\n",
    "nilearn_svm_info['node_color'] = list(node_color['node_color'])\n",
    "nilearn_svm_info['node_size'] = node_size"
   ]
  },
  {
   "cell_type": "code",
   "execution_count": 16,
   "id": "9d0bfe98",
   "metadata": {},
   "outputs": [],
   "source": [
    "name = axis[['num', 'abbr', 'name']]\n",
    "name = name.rename(columns={'num': 'node'})\n",
    "name['node'] = name['node'].astype(int)\n",
    "nilearn_svm_info = pd.merge(nilearn_svm_info, name, how='inner', on=['node'])\n",
    "nilearn_svm_info = nilearn_svm_info[['node', 'abbr', 'name', 'network', 'node_color', 'node_size', 'x', 'y', 'z']]"
   ]
  },
  {
   "cell_type": "markdown",
   "id": "dc3a9c68",
   "metadata": {},
   "source": [
    "plotting.plot_connectome"
   ]
  },
  {
   "cell_type": "code",
   "execution_count": 27,
   "id": "9d1a1c93",
   "metadata": {},
   "outputs": [],
   "source": [
    "fig = plt.figure()\n",
    "plotting.plot_connectome(link_matrix, node_coor, edge_threshold=0.1, node_color=list(node_color['node_color']), node_size=node_size, colorbar=True, \n",
    "                         figure=fig, title='SVM', output_file='./svm_plot.pdf')  "
   ]
  }
 ],
 "metadata": {
  "kernelspec": {
   "display_name": "Python 3",
   "language": "python",
   "name": "python3"
  },
  "language_info": {
   "codemirror_mode": {
    "name": "ipython",
    "version": 3
   },
   "file_extension": ".py",
   "mimetype": "text/x-python",
   "name": "python",
   "nbconvert_exporter": "python",
   "pygments_lexer": "ipython3",
   "version": "3.8.8"
  }
 },
 "nbformat": 4,
 "nbformat_minor": 5
}
